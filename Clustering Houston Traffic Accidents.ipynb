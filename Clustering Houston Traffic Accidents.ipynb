{
 "cells": [
  {
   "cell_type": "markdown",
   "metadata": {},
   "source": [
    "# IBM Final Capstone Project "
   ]
  },
  {
   "cell_type": "markdown",
   "metadata": {},
   "source": [
    "# -Clustering Traffic Accident by Road Features and Nearby Venues-"
   ]
  },
  {
   "cell_type": "markdown",
   "metadata": {},
   "source": [
    "## 1. Introduction"
   ]
  },
  {
   "cell_type": "markdown",
   "metadata": {},
   "source": [
    "Travelling is one of the most important aspect in human life. Many human activity depends on travelling. Human needs to travel in order to fulfill their needs such as buying basic needs, business meeting and vacating. Traveling is not limited to human-travel only, other important aspect of travelling is logistic transportation which require travel from one place to other. Houston, as the most populous city in US state of Texas needs many travelling and transporting to fulfill their citizens basic needs.\n",
    "<br>\n",
    "<br>\n",
    "Nowadays, logistic transportation has becoming more important especially in this pandemic era which makes people self-limiting its mobility. COVID-19 pandemic force people to order its basic needs and requested it to be delivered into their places, this situation makes road traffic heavier than before. This happened in Houston also, and in order to preserve stable economy and human well being, Houston government as an organization to govern people needs to solve traffic accident problem to ensure its economic and people well-being."
   ]
  },
  {
   "cell_type": "markdown",
   "metadata": {},
   "source": [
    "## 2. Problem"
   ]
  },
  {
   "cell_type": "markdown",
   "metadata": {},
   "source": [
    "There are many traffic accident in Houston in the last 4 years. We can categorize it into 4 severity level = 1,2,3, and 4. Severity level 1 is the least sever than the rest. Because the most sever traffic accident is 'Severity level 4', this project will be aiming to gain segment and cluster from traffic accident data with severity level 4."
   ]
  },
  {
   "cell_type": "markdown",
   "metadata": {},
   "source": [
    "## 3. Data"
   ]
  },
  {
   "cell_type": "markdown",
   "metadata": {},
   "source": [
    "There are 2 used data in this project:\n",
    "1. US Accident Data by Soobhan Moosavi in kaggle, link: [DOWNLOAD HERE](https://www.kaggle.com/sobhanmoosavi/us-accidents/download) <br> This data will be used to gain latitude and longitude of accidents and use the latitude and longitude to gain nearby venues by using Foursquare API. Furthermore, this data will also be used to gain road features in the accident places.\n",
    "2. Nearby Venues Data exctracted from Foursquare by using Foursquare API <br> Nearby venues and road features will be used to cluster and segment the accident location. The resulted segmentation will help goverment to decide which segment have to be treated by which policy"
   ]
  },
  {
   "cell_type": "code",
   "execution_count": null,
   "metadata": {},
   "outputs": [],
   "source": []
  }
 ],
 "metadata": {
  "kernelspec": {
   "display_name": "Python 3",
   "language": "python",
   "name": "python3"
  },
  "language_info": {
   "codemirror_mode": {
    "name": "ipython",
    "version": 3
   },
   "file_extension": ".py",
   "mimetype": "text/x-python",
   "name": "python",
   "nbconvert_exporter": "python",
   "pygments_lexer": "ipython3",
   "version": "3.8.3"
  }
 },
 "nbformat": 4,
 "nbformat_minor": 4
}
